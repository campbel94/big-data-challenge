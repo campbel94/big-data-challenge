{
  "nbformat": 4,
  "nbformat_minor": 0,
  "metadata": {
    "colab": {
      "name": "Amazon_Watch_Review_ETL.ipynb",
      "provenance": [],
      "collapsed_sections": []
    },
    "kernelspec": {
      "name": "python3",
      "display_name": "Python 3"
    }
  },
  "cells": [
    {
      "cell_type": "code",
      "metadata": {
        "id": "8MHEXgSguS3I",
        "outputId": "f3625377-c3bd-4584-bc5b-679b1416ba12",
        "colab": {
          "base_uri": "https://localhost:8080/",
          "height": 252
        }
      },
      "source": [
        "!apt-get install openjdk-8-jdk-headless -qq > /dev/null\n",
        "import os\n",
        "os.environ[\"JAVA_HOME\"] = \"/usr/lib/jvm/java-8-openjdk-amd64\"\n",
        "!update-alternatives --set java /usr/lib/jvm/java-8-openjdk-amd64/jre/bin/java\n",
        "!pip install pyspark"
      ],
      "execution_count": 1,
      "outputs": [
        {
          "output_type": "stream",
          "text": [
            "update-alternatives: using /usr/lib/jvm/java-8-openjdk-amd64/jre/bin/java to provide /usr/bin/java (java) in manual mode\n",
            "Collecting pyspark\n",
            "\u001b[?25l  Downloading https://files.pythonhosted.org/packages/f0/26/198fc8c0b98580f617cb03cb298c6056587b8f0447e20fa40c5b634ced77/pyspark-3.0.1.tar.gz (204.2MB)\n",
            "\u001b[K     |████████████████████████████████| 204.2MB 67kB/s \n",
            "\u001b[?25hCollecting py4j==0.10.9\n",
            "\u001b[?25l  Downloading https://files.pythonhosted.org/packages/9e/b6/6a4fb90cd235dc8e265a6a2067f2a2c99f0d91787f06aca4bcf7c23f3f80/py4j-0.10.9-py2.py3-none-any.whl (198kB)\n",
            "\u001b[K     |████████████████████████████████| 204kB 46.7MB/s \n",
            "\u001b[?25hBuilding wheels for collected packages: pyspark\n",
            "  Building wheel for pyspark (setup.py) ... \u001b[?25l\u001b[?25hdone\n",
            "  Created wheel for pyspark: filename=pyspark-3.0.1-py2.py3-none-any.whl size=204612243 sha256=1e97a029f6af77dededd6f303101ac800f2c8422c0d623ee5d3f4d6a77e67b59\n",
            "  Stored in directory: /root/.cache/pip/wheels/5e/bd/07/031766ca628adec8435bb40f0bd83bb676ce65ff4007f8e73f\n",
            "Successfully built pyspark\n",
            "Installing collected packages: py4j, pyspark\n",
            "Successfully installed py4j-0.10.9 pyspark-3.0.1\n"
          ],
          "name": "stdout"
        }
      ]
    },
    {
      "cell_type": "code",
      "metadata": {
        "id": "P6Pv7WFZnjI9",
        "outputId": "114f9e89-fea0-4f3a-b58a-9caca0308b5e",
        "colab": {
          "base_uri": "https://localhost:8080/",
          "height": 202
        }
      },
      "source": [
        "!wget https://jdbc.postgresql.org/download/postgresql-42.2.9.jar"
      ],
      "execution_count": 3,
      "outputs": [
        {
          "output_type": "stream",
          "text": [
            "--2020-10-16 19:19:52--  https://jdbc.postgresql.org/download/postgresql-42.2.9.jar\n",
            "Resolving jdbc.postgresql.org (jdbc.postgresql.org)... 72.32.157.228, 2001:4800:3e1:1::228\n",
            "Connecting to jdbc.postgresql.org (jdbc.postgresql.org)|72.32.157.228|:443... connected.\n",
            "HTTP request sent, awaiting response... 200 OK\n",
            "Length: 914037 (893K) [application/java-archive]\n",
            "Saving to: ‘postgresql-42.2.9.jar.1’\n",
            "\n",
            "postgresql-42.2.9.j 100%[===================>] 892.61K  1.02MB/s    in 0.9s    \n",
            "\n",
            "2020-10-16 19:19:54 (1.02 MB/s) - ‘postgresql-42.2.9.jar.1’ saved [914037/914037]\n",
            "\n"
          ],
          "name": "stdout"
        }
      ]
    },
    {
      "cell_type": "code",
      "metadata": {
        "id": "_ue4YPz1yU5x"
      },
      "source": [
        "from pyspark.sql import SparkSession\n",
        "spark = SparkSession.builder.appName(\"CloudETL\").config(\"spark.driver.extraClassPath\",\"/content/postgresql-42.2.9.jar\").getOrCreate()"
      ],
      "execution_count": 8,
      "outputs": []
    },
    {
      "cell_type": "markdown",
      "metadata": {
        "id": "evJ-UUZQ6Wx5"
      },
      "source": [
        "# Extract"
      ]
    },
    {
      "cell_type": "code",
      "metadata": {
        "id": "xC_5eZ2-yVXh",
        "outputId": "c5deb86d-ca2e-4f30-a4c8-bff6d335aa1f",
        "colab": {
          "base_uri": "https://localhost:8080/",
          "height": 474
        }
      },
      "source": [
        "# Read in data from S3 Buckets\n",
        "from pyspark import SparkFiles\n",
        "url=\"https://s3.amazonaws.com/amazon-reviews-pds/tsv/amazon_reviews_us_Watches_v1_00.tsv.gz\"\n",
        "spark.sparkContext.addFile(url)\n",
        "watches_df = spark.read.option('header', 'true').csv(SparkFiles.get(\"amazon_reviews_us_Watches_v1_00.tsv.gz\"), inferSchema=True, sep='\\t', timestampFormat=\"yyyy-mm-dd\")\n",
        "\n",
        "# Show DataFrame\n",
        "watches_df.show()"
      ],
      "execution_count": 10,
      "outputs": [
        {
          "output_type": "stream",
          "text": [
            "+-----------+-----------+--------------+----------+--------------+--------------------+----------------+-----------+-------------+-----------+----+-----------------+--------------------+--------------------+-------------------+\n",
            "|marketplace|customer_id|     review_id|product_id|product_parent|       product_title|product_category|star_rating|helpful_votes|total_votes|vine|verified_purchase|     review_headline|         review_body|        review_date|\n",
            "+-----------+-----------+--------------+----------+--------------+--------------------+----------------+-----------+-------------+-----------+----+-----------------+--------------------+--------------------+-------------------+\n",
            "|         US|    3653882|R3O9SGZBVQBV76|B00FALQ1ZC|     937001370|Invicta Women's 1...|         Watches|          5|            0|          0|   N|                Y|          Five Stars|Absolutely love t...|2015-01-31 00:08:00|\n",
            "|         US|   14661224| RKH8BNC3L5DLF|B00D3RGO20|     484010722|Kenneth Cole New ...|         Watches|          5|            0|          0|   N|                Y|I love thiswatch ...|I love this watch...|2015-01-31 00:08:00|\n",
            "|         US|   27324930|R2HLE8WKZSU3NL|B00DKYC7TK|     361166390|Ritche 22mm Black...|         Watches|          2|            1|          1|   N|                Y|           Two Stars|           Scratches|2015-01-31 00:08:00|\n",
            "|         US|    7211452|R31U3UH5AZ42LL|B000EQS1JW|     958035625|Citizen Men's BM8...|         Watches|          5|            0|          0|   N|                Y|          Five Stars|It works well on ...|2015-01-31 00:08:00|\n",
            "|         US|   12733322|R2SV659OUJ945Y|B00A6GFD7S|     765328221|Orient ER27009B M...|         Watches|          4|            0|          0|   N|                Y|Beautiful face, b...|Beautiful watch f...|2015-01-31 00:08:00|\n",
            "|         US|    6576411| RA51CP8TR5A2L|B00EYSOSE8|     230493695|Casio Men's GW-94...|         Watches|          5|            0|          0|   N|                Y|       No complaints|i love this watch...|2015-01-31 00:08:00|\n",
            "|         US|   11811565| RB2Q7DLDN6TH6|B00WM0QA3M|     549298279|Fossil Women's ES...|         Watches|          5|            1|          1|   N|                Y|          Five Stars|for my wife and s...|2015-01-31 00:08:00|\n",
            "|         US|   49401598|R2RHFJV0UYBK3Y|B00A4EYBR0|     844009113|INFANTRY Mens Nig...|         Watches|          1|            1|          5|   N|                N|I was about to bu...|I was about to bu...|2015-01-31 00:08:00|\n",
            "|         US|   45925069|R2Z6JOQ94LFHEP|B00MAMPGGE|     263720892|G-Shock Men's Gre...|         Watches|          5|            1|          2|   N|                Y|      Perfect watch!|Watch is perfect....|2015-01-31 00:08:00|\n",
            "|         US|   44751341| RX27XIIWY5JPB|B004LBPB7Q|     124278407|Heiden Quad Watch...|         Watches|          4|            0|          0|   N|                Y|Great quality and...|Great quality and...|2015-01-31 00:08:00|\n",
            "|         US|    9962330|R15C7QEZT0LGZN|B00KGTVGKS|      28017857|Fossil Women's ES...|         Watches|          4|            2|          2|   N|                Y|           Satisfied|The watch was pre...|2015-01-31 00:08:00|\n",
            "|         US|   16097204|R361XSS37V0NCZ|B0039UT5OU|     685450910|Casio General Men...|         Watches|          1|            0|          0|   N|                N|I do not think th...|I bought this wat...|2015-01-31 00:08:00|\n",
            "|         US|   51330346| ROTNLALUAJAUB|B00MPF0XJQ|     767769082|2Tone Gold Silver...|         Watches|          3|            0|          0|   N|                Y|         Three Stars|It is a cheap wat...|2015-01-31 00:08:00|\n",
            "|         US|    4201739|R2DYX7QU6BGOHR|B003P1OHHS|     648595227|Bulova Men's 98B1...|         Watches|          5|            0|          0|   N|                Y|          Five Stars|Heavier than i th...|2015-01-31 00:08:00|\n",
            "|         US|   26339765| RWASY7FKI7QOT|B00R70YEOE|     457338020|Casio - G-Shock -...|         Watches|          5|            2|          3|   N|                Y|  Worth it - love it|Had it for severa...|2015-01-31 00:08:00|\n",
            "|         US|    2692576|R2KKYZIN3CCL21|B000FVE3BG|     824370661|Invicta Men's 332...|         Watches|          5|            0|          0|   N|                Y|This is when diff...|This one is diffe...|2015-01-31 00:08:00|\n",
            "|         US|   44713366|R22H4FGVD5O52O|B008X6JB12|     814431355|Seiko Women's SUT...|         Watches|          4|            1|          1|   N|                Y|Thewatch is attra...|The watch is attr...|2015-01-31 00:08:00|\n",
            "|         US|   32778769|R11UACZERCM4ZY|B0040UOFPW|     187700878|Anne Klein Women'...|         Watches|          5|            0|          0|   N|                Y|          Five Stars|      said my wife..|2015-01-31 00:08:00|\n",
            "|         US|   27258523|R1AT8NQ38UQOL6|B00UR2R5UY|     594315262|Guess U13630G1 Me...|         Watches|          5|            0|          0|   N|                Y|          Five Stars|Nice watch, on ti...|2015-01-31 00:08:00|\n",
            "|         US|   42646538|R2NCZRQGIF1Q75|B00HFF57L0|     520810507|Nixon Men's Geo V...|         Watches|          4|            0|          0|   N|                Y|        Very stylish|Looks great and l...|2015-01-31 00:08:00|\n",
            "+-----------+-----------+--------------+----------+--------------+--------------------+----------------+-----------+-------------+-----------+----+-----------------+--------------------+--------------------+-------------------+\n",
            "only showing top 20 rows\n",
            "\n"
          ],
          "name": "stdout"
        }
      ]
    },
    {
      "cell_type": "markdown",
      "metadata": {
        "id": "z45Uh7hz6Rp3"
      },
      "source": [
        ""
      ]
    },
    {
      "cell_type": "markdown",
      "metadata": {
        "id": "5Y__x_W36hec"
      },
      "source": [
        "# Count"
      ]
    },
    {
      "cell_type": "code",
      "metadata": {
        "id": "q3cc-PUHyVo9",
        "outputId": "80674916-8ba9-448e-a16c-4823f27e0b76",
        "colab": {
          "base_uri": "https://localhost:8080/",
          "height": 34
        }
      },
      "source": [
        "# Count the total rows\n",
        "watches_df.count()\n"
      ],
      "execution_count": 11,
      "outputs": [
        {
          "output_type": "execute_result",
          "data": {
            "text/plain": [
              "960872"
            ]
          },
          "metadata": {
            "tags": []
          },
          "execution_count": 11
        }
      ]
    },
    {
      "cell_type": "code",
      "metadata": {
        "id": "drSmyBHDyV7J",
        "outputId": "06db7a40-d074-4316-afd7-f4d6bc8400fe",
        "colab": {
          "base_uri": "https://localhost:8080/",
          "height": 34
        }
      },
      "source": [
        "# Drop null values and recount the rows\n",
        "watches_df = watches_df.dropna()\n",
        "watches_df.count()"
      ],
      "execution_count": 13,
      "outputs": [
        {
          "output_type": "execute_result",
          "data": {
            "text/plain": [
              "960679"
            ]
          },
          "metadata": {
            "tags": []
          },
          "execution_count": 13
        }
      ]
    },
    {
      "cell_type": "markdown",
      "metadata": {
        "id": "__y4oDhu6nq6"
      },
      "source": [
        "# Schema"
      ]
    },
    {
      "cell_type": "code",
      "metadata": {
        "id": "weq_l_O2yWO7",
        "outputId": "16e8fca3-4655-4792-9584-285674d953c0",
        "colab": {
          "base_uri": "https://localhost:8080/",
          "height": 302
        }
      },
      "source": [
        "# Print schema to confirm the correct data types\n",
        "watches_df.printSchema()"
      ],
      "execution_count": 15,
      "outputs": [
        {
          "output_type": "stream",
          "text": [
            "root\n",
            " |-- marketplace: string (nullable = true)\n",
            " |-- customer_id: integer (nullable = true)\n",
            " |-- review_id: string (nullable = true)\n",
            " |-- product_id: string (nullable = true)\n",
            " |-- product_parent: integer (nullable = true)\n",
            " |-- product_title: string (nullable = true)\n",
            " |-- product_category: string (nullable = true)\n",
            " |-- star_rating: integer (nullable = true)\n",
            " |-- helpful_votes: integer (nullable = true)\n",
            " |-- total_votes: integer (nullable = true)\n",
            " |-- vine: string (nullable = true)\n",
            " |-- verified_purchase: string (nullable = true)\n",
            " |-- review_headline: string (nullable = true)\n",
            " |-- review_body: string (nullable = true)\n",
            " |-- review_date: timestamp (nullable = true)\n",
            "\n"
          ],
          "name": "stdout"
        }
      ]
    },
    {
      "cell_type": "markdown",
      "metadata": {
        "id": "o_4LZkmM4KBq"
      },
      "source": [
        "## Transform"
      ]
    },
    {
      "cell_type": "code",
      "metadata": {
        "id": "51bwQyHv6mD9",
        "outputId": "fd0b407a-9c2a-44bb-8e23-7f757df65ac4",
        "colab": {
          "base_uri": "https://localhost:8080/",
          "height": 454
        }
      },
      "source": [
        "# Create review dataframe to match \"review_id_table\" table\n",
        "watch_review_id_df = watches_df.select([\"review_id\",\"customer_id\",\"product_id\", \"product_parent\",\"review_date\"])\n",
        "watch_review_id_df.show()"
      ],
      "execution_count": 22,
      "outputs": [
        {
          "output_type": "stream",
          "text": [
            "+--------------+-----------+----------+--------------+-------------------+\n",
            "|     review_id|customer_id|product_id|product_parent|        review_date|\n",
            "+--------------+-----------+----------+--------------+-------------------+\n",
            "|R3O9SGZBVQBV76|    3653882|B00FALQ1ZC|     937001370|2015-01-31 00:08:00|\n",
            "| RKH8BNC3L5DLF|   14661224|B00D3RGO20|     484010722|2015-01-31 00:08:00|\n",
            "|R2HLE8WKZSU3NL|   27324930|B00DKYC7TK|     361166390|2015-01-31 00:08:00|\n",
            "|R31U3UH5AZ42LL|    7211452|B000EQS1JW|     958035625|2015-01-31 00:08:00|\n",
            "|R2SV659OUJ945Y|   12733322|B00A6GFD7S|     765328221|2015-01-31 00:08:00|\n",
            "| RA51CP8TR5A2L|    6576411|B00EYSOSE8|     230493695|2015-01-31 00:08:00|\n",
            "| RB2Q7DLDN6TH6|   11811565|B00WM0QA3M|     549298279|2015-01-31 00:08:00|\n",
            "|R2RHFJV0UYBK3Y|   49401598|B00A4EYBR0|     844009113|2015-01-31 00:08:00|\n",
            "|R2Z6JOQ94LFHEP|   45925069|B00MAMPGGE|     263720892|2015-01-31 00:08:00|\n",
            "| RX27XIIWY5JPB|   44751341|B004LBPB7Q|     124278407|2015-01-31 00:08:00|\n",
            "|R15C7QEZT0LGZN|    9962330|B00KGTVGKS|      28017857|2015-01-31 00:08:00|\n",
            "|R361XSS37V0NCZ|   16097204|B0039UT5OU|     685450910|2015-01-31 00:08:00|\n",
            "| ROTNLALUAJAUB|   51330346|B00MPF0XJQ|     767769082|2015-01-31 00:08:00|\n",
            "|R2DYX7QU6BGOHR|    4201739|B003P1OHHS|     648595227|2015-01-31 00:08:00|\n",
            "| RWASY7FKI7QOT|   26339765|B00R70YEOE|     457338020|2015-01-31 00:08:00|\n",
            "|R2KKYZIN3CCL21|    2692576|B000FVE3BG|     824370661|2015-01-31 00:08:00|\n",
            "|R22H4FGVD5O52O|   44713366|B008X6JB12|     814431355|2015-01-31 00:08:00|\n",
            "|R11UACZERCM4ZY|   32778769|B0040UOFPW|     187700878|2015-01-31 00:08:00|\n",
            "|R1AT8NQ38UQOL6|   27258523|B00UR2R5UY|     594315262|2015-01-31 00:08:00|\n",
            "|R2NCZRQGIF1Q75|   42646538|B00HFF57L0|     520810507|2015-01-31 00:08:00|\n",
            "+--------------+-----------+----------+--------------+-------------------+\n",
            "only showing top 20 rows\n",
            "\n"
          ],
          "name": "stdout"
        }
      ]
    },
    {
      "cell_type": "code",
      "metadata": {
        "id": "mMwyp4eZ6ma7",
        "outputId": "0225bb56-b61f-452a-f471-8a8d8b1e1f1b",
        "colab": {
          "base_uri": "https://localhost:8080/",
          "height": 454
        }
      },
      "source": [
        "# Create product dataframe to match \"products\" table\n",
        "watch_products_df = watches_df.select([\"product_id\",\"product_title\"])\n",
        "watch_products_df = watch_products_df.dropDuplicates()\n",
        "watch_products_df.show()"
      ],
      "execution_count": 21,
      "outputs": [
        {
          "output_type": "stream",
          "text": [
            "+----------+--------------------+\n",
            "|product_id|       product_title|\n",
            "+----------+--------------------+\n",
            "|B00EVX7V1I|Game Time Women's...|\n",
            "|B009S4DODY|XOXO Women's XO55...|\n",
            "|B00LBKXQRW|Anne Klein Women'...|\n",
            "|B0009P679Y|Invicta Men's 993...|\n",
            "|B00DHF30RU|M&c Women's | Cla...|\n",
            "|B00NIDA43Y|GuTe Classic Skel...|\n",
            "|B008EQDDPQ|Nautica Men's N13...|\n",
            "|B004VRBZ66|Timex Men's T2N63...|\n",
            "|B009BEO81I|        Fossil Riley|\n",
            "|B008B39MTI|XOXO Women's XO55...|\n",
            "|B00TGPM8PU|Handmade Wooden W...|\n",
            "|B00VNXQQQ0|Eterna 2520-41-64...|\n",
            "|B00B1PV1C4|Nautica Men's N19...|\n",
            "|B00N1Y8TQ4|Tissot Men's T095...|\n",
            "|B00G6DBTY6|red line Men's RL...|\n",
            "|B00HM04AYI|Columbia Men's Fi...|\n",
            "|B00VI8HB96|GUESS I90176L1 Wo...|\n",
            "|B00IT25WJU|LanTac DGN556B Dr...|\n",
            "|B0106S12XE|Skmei S Shock Ana...|\n",
            "|B00FPSJ63Y|Michael Kors Ladi...|\n",
            "+----------+--------------------+\n",
            "only showing top 20 rows\n",
            "\n"
          ],
          "name": "stdout"
        }
      ]
    },
    {
      "cell_type": "code",
      "metadata": {
        "id": "DtAdqs-a6mmP",
        "outputId": "7e115872-91e7-4a32-884b-dc5b372c1383",
        "colab": {
          "base_uri": "https://localhost:8080/",
          "height": 454
        }
      },
      "source": [
        "# Create customers dataframe to match \"customers\" table\n",
        "from pyspark.sql.functions import desc\n",
        "\n",
        "\n",
        "watch_customers_df = watches_df.groupby(\"customer_id\").agg({\"customer_id\":\"count\"})\n",
        "watch_customers_df = watch_customers_df.orderBy(desc(\"count(customer_id)\"))\n",
        "watch_customers_df = watch_customers_df.withColumnRenamed(\"count(customer_id)\", \"customer_count\")\n",
        "watch_customers_df.show()"
      ],
      "execution_count": 26,
      "outputs": [
        {
          "output_type": "stream",
          "text": [
            "+-----------+--------------+\n",
            "|customer_id|customer_count|\n",
            "+-----------+--------------+\n",
            "|   42418272|           407|\n",
            "|   40765068|           127|\n",
            "|   19619134|           121|\n",
            "|   52460875|           111|\n",
            "|    5072809|           106|\n",
            "|   18691646|            92|\n",
            "|   14726863|            88|\n",
            "|   13355404|            87|\n",
            "|   42416004|            86|\n",
            "|   45112699|            75|\n",
            "|   44191290|            70|\n",
            "|   22962882|            66|\n",
            "|   47769852|            65|\n",
            "|   23137720|            64|\n",
            "|    5956842|            59|\n",
            "|   21375608|            59|\n",
            "|   25160623|            59|\n",
            "|    1389173|            58|\n",
            "|    8887467|            58|\n",
            "|   24254971|            58|\n",
            "+-----------+--------------+\n",
            "only showing top 20 rows\n",
            "\n"
          ],
          "name": "stdout"
        }
      ]
    },
    {
      "cell_type": "code",
      "metadata": {
        "id": "SYxp3dnQ6met",
        "outputId": "1ce64c5a-4295-47c0-9af6-4f1fdf35357d",
        "colab": {
          "base_uri": "https://localhost:8080/",
          "height": 454
        }
      },
      "source": [
        "# Create vine dataframe to match \"vine_table\" table\n",
        "from pyspark.sql.functions import col\n",
        "\n",
        "watch_vine_table_df = watches_df.select([\"review_id\",\"star_rating\",\"helpful_votes\",\"total_votes\",\"vine\"])\n",
        "watch_vine_table_df = watch_vine_table_df.filter(col(\"vine\")  == \"Y\")\n",
        "watch_vine_table_df.show()\n"
      ],
      "execution_count": 27,
      "outputs": [
        {
          "output_type": "stream",
          "text": [
            "+--------------+-----------+-------------+-----------+----+\n",
            "|     review_id|star_rating|helpful_votes|total_votes|vine|\n",
            "+--------------+-----------+-------------+-----------+----+\n",
            "| R6EMI5RKW73N3|          4|            1|          2|   Y|\n",
            "|R3GDHEAHV44OSP|          4|            0|          0|   Y|\n",
            "| RJ1N4X4CNQIJ9|          4|            0|          0|   Y|\n",
            "| R2IZD1134PGIP|          4|            1|          2|   Y|\n",
            "|R1RVYFAX6ZO2R9|          4|            0|          1|   Y|\n",
            "|R39TDJY3D0M9OQ|          4|            0|          0|   Y|\n",
            "| RF9H3S6G96WFD|          5|            0|          0|   Y|\n",
            "|R1THQWC9BZAINY|          5|            0|          0|   Y|\n",
            "|R2T6NBVGF447BZ|          4|            0|          0|   Y|\n",
            "|R2IVDAK7IYLXJS|          4|            1|          1|   Y|\n",
            "| RCUJSPL51V519|          4|            1|          1|   Y|\n",
            "| R3ZNTDTGSY8SC|          4|            1|          1|   Y|\n",
            "|R2DC9TNKKI8EXN|          5|            1|          1|   Y|\n",
            "|R2GX9CYB2H258C|          5|            2|          2|   Y|\n",
            "| RSXOQDLRZZUBG|          5|            0|          0|   Y|\n",
            "| R749PGSBA9HP6|          4|            1|          1|   Y|\n",
            "|R170PR0NEEIW2E|          4|            2|          2|   Y|\n",
            "| RMAG0OPUODKQC|          5|            4|          4|   Y|\n",
            "|R2B5BMN2FK6759|          5|            0|          1|   Y|\n",
            "| R47SUXBU2D984|          5|            0|          0|   Y|\n",
            "+--------------+-----------+-------------+-----------+----+\n",
            "only showing top 20 rows\n",
            "\n"
          ],
          "name": "stdout"
        }
      ]
    },
    {
      "cell_type": "markdown",
      "metadata": {
        "id": "A8n-qxbDZ1Q2"
      },
      "source": [
        "## **Load into RDS (Postgres)**"
      ]
    },
    {
      "cell_type": "code",
      "metadata": {
        "id": "CYCAz1If6mTn"
      },
      "source": [
        "# Configure settings for RDS\n",
        "mode = \"append\"\n",
        "jdbc_url=\"jdbc:postgresql://bigdatach3act3db.cw1hhyrwelau.us-east-2.rds.amazonaws.com:5432/amazonwatchreviews\"\n",
        "config = {\"user\":\"postgres\", \n",
        "          \"password\": \"postgres\", \n",
        "          \"driver\":\"org.postgresql.Driver\"}"
      ],
      "execution_count": 28,
      "outputs": []
    },
    {
      "cell_type": "code",
      "metadata": {
        "id": "npVCLr_3dxZ1"
      },
      "source": [
        "# Write DataFrame to review_id_df table in RDS\n",
        "\n",
        "watch_review_id_df.write.jdbc(url=jdbc_url, table='review_id_table', mode=mode, properties=config)"
      ],
      "execution_count": 29,
      "outputs": []
    },
    {
      "cell_type": "code",
      "metadata": {
        "id": "IVN7GO1nx7M9"
      },
      "source": [
        "# Write DataFrame to products table in RDS\n",
        "\n",
        "watch_products_df.write.jdbc(url=jdbc_url, table='products', mode=mode, properties=config)"
      ],
      "execution_count": 30,
      "outputs": []
    },
    {
      "cell_type": "code",
      "metadata": {
        "id": "4clPsIGJdxs5"
      },
      "source": [
        "# Write DataFrame to customers table in RDS\n",
        "\n",
        "watch_customers_df.write.jdbc(url=jdbc_url, table='customers', mode=mode, properties=config)"
      ],
      "execution_count": 31,
      "outputs": []
    },
    {
      "cell_type": "code",
      "metadata": {
        "id": "cAGs5pJ8yBv5"
      },
      "source": [
        "# Write DataFrame to vine_table table in RDS\n",
        "\n",
        "watch_vine_table_df.write.jdbc(url=jdbc_url, table='vine_table', mode=mode, properties=config)"
      ],
      "execution_count": 32,
      "outputs": []
    }
  ]
}