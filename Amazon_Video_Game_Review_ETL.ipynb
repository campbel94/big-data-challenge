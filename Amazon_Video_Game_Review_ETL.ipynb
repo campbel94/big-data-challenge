{
  "nbformat": 4,
  "nbformat_minor": 0,
  "metadata": {
    "colab": {
      "name": "Amazon_Video_Game_Review_ETL.ipynb",
      "provenance": [],
      "collapsed_sections": []
    },
    "kernelspec": {
      "name": "python3",
      "display_name": "Python 3"
    }
  },
  "cells": [
    {
      "cell_type": "code",
      "metadata": {
        "id": "8MHEXgSguS3I",
        "outputId": "3b15deae-e0a1-4ef6-d774-ff4e883b33f1",
        "colab": {
          "base_uri": "https://localhost:8080/",
          "height": 51
        }
      },
      "source": [
        "!apt-get install openjdk-8-jdk-headless -qq > /dev/null\n",
        "import os\n",
        "os.environ[\"JAVA_HOME\"] = \"/usr/lib/jvm/java-8-openjdk-amd64\"\n",
        "!update-alternatives --set java /usr/lib/jvm/java-8-openjdk-amd64/jre/bin/java\n",
        "!pip install pyspark"
      ],
      "execution_count": null,
      "outputs": [
        {
          "output_type": "stream",
          "text": [
            "Requirement already satisfied: pyspark in /usr/local/lib/python3.6/dist-packages (3.0.1)\n",
            "Requirement already satisfied: py4j==0.10.9 in /usr/local/lib/python3.6/dist-packages (from pyspark) (0.10.9)\n"
          ],
          "name": "stdout"
        }
      ]
    },
    {
      "cell_type": "code",
      "metadata": {
        "id": "P6Pv7WFZnjI9",
        "outputId": "ffc5e6f0-e8d8-4809-d4ce-6e46982c9bc6",
        "colab": {
          "base_uri": "https://localhost:8080/",
          "height": 204
        }
      },
      "source": [
        "!wget https://jdbc.postgresql.org/download/postgresql-42.2.9.jar"
      ],
      "execution_count": null,
      "outputs": [
        {
          "output_type": "stream",
          "text": [
            "--2020-10-16 18:30:48--  https://jdbc.postgresql.org/download/postgresql-42.2.9.jar\n",
            "Resolving jdbc.postgresql.org (jdbc.postgresql.org)... 72.32.157.228, 2001:4800:3e1:1::228\n",
            "Connecting to jdbc.postgresql.org (jdbc.postgresql.org)|72.32.157.228|:443... connected.\n",
            "HTTP request sent, awaiting response... 200 OK\n",
            "Length: 914037 (893K) [application/java-archive]\n",
            "Saving to: ‘postgresql-42.2.9.jar.3’\n",
            "\n",
            "postgresql-42.2.9.j 100%[===================>] 892.61K  3.58MB/s    in 0.2s    \n",
            "\n",
            "2020-10-16 18:30:49 (3.58 MB/s) - ‘postgresql-42.2.9.jar.3’ saved [914037/914037]\n",
            "\n"
          ],
          "name": "stdout"
        }
      ]
    },
    {
      "cell_type": "code",
      "metadata": {
        "id": "_ue4YPz1yU5x"
      },
      "source": [
        "from pyspark.sql import SparkSession\n",
        "spark = SparkSession.builder.appName(\"CloudETL\").config(\"spark.driver.extraClassPath\",\"/content/postgresql-42.2.9.jar\").getOrCreate()"
      ],
      "execution_count": null,
      "outputs": []
    },
    {
      "cell_type": "markdown",
      "metadata": {
        "id": "evJ-UUZQ6Wx5"
      },
      "source": [
        "# Extract"
      ]
    },
    {
      "cell_type": "code",
      "metadata": {
        "id": "xC_5eZ2-yVXh",
        "outputId": "9bd83761-3018-49da-d831-e59400c889ac",
        "colab": {
          "base_uri": "https://localhost:8080/",
          "height": 459
        }
      },
      "source": [
        "# Read in data from S3 Buckets\n",
        "from pyspark import SparkFiles\n",
        "url=\"https://s3.amazonaws.com/amazon-reviews-pds/tsv/amazon_reviews_us_Video_Games_v1_00.tsv.gz\"\n",
        "spark.sparkContext.addFile(url)\n",
        "video_game_df = spark.read.option('header', 'true').csv(SparkFiles.get(\"amazon_reviews_us_Video_Games_v1_00.tsv.gz\"), inferSchema=True, sep='\\t', timestampFormat=\"yyyy-mm-dd\")\n",
        "\n",
        "# Show DataFrame\n",
        "video_game_df.show()"
      ],
      "execution_count": null,
      "outputs": [
        {
          "output_type": "stream",
          "text": [
            "+-----------+-----------+--------------+----------+--------------+--------------------+----------------+-----------+-------------+-----------+----+-----------------+--------------------+--------------------+-------------------+\n",
            "|marketplace|customer_id|     review_id|product_id|product_parent|       product_title|product_category|star_rating|helpful_votes|total_votes|vine|verified_purchase|     review_headline|         review_body|        review_date|\n",
            "+-----------+-----------+--------------+----------+--------------+--------------------+----------------+-----------+-------------+-----------+----+-----------------+--------------------+--------------------+-------------------+\n",
            "|         US|   12039526| RTIS3L2M1F5SM|B001CXYMFS|     737716809|Thrustmaster T-Fl...|     Video Games|          5|            0|          0|   N|                Y|an amazing joysti...|Used this for Eli...|2015-01-31 00:08:00|\n",
            "|         US|    9636577| R1ZV7R40OLHKD|B00M920ND6|     569686175|Tonsee 6 buttons ...|     Video Games|          5|            0|          0|   N|                Y|Definitely a sile...|Loved it,  I didn...|2015-01-31 00:08:00|\n",
            "|         US|    2331478|R3BH071QLH8QMC|B0029CSOD2|      98937668|Hidden Mysteries:...|     Video Games|          1|            0|          1|   N|                Y|            One Star|poor quality work...|2015-01-31 00:08:00|\n",
            "|         US|   52495923|R127K9NTSXA2YH|B00GOOSV98|      23143350|GelTabz Performan...|     Video Games|          3|            0|          0|   N|                Y|good, but could b...|nice, but tend to...|2015-01-31 00:08:00|\n",
            "|         US|   14533949|R32ZWUXDJPW27Q|B00Y074JOM|     821342511|Zero Suit Samus a...|     Video Games|          4|            0|          0|   N|                Y|   Great but flawed.|Great amiibo, gre...|2015-01-31 00:08:00|\n",
            "|         US|    2377552|R3AQQ4YUKJWBA6|B002UBI6W6|     328764615|Psyclone Recharge...|     Video Games|          1|            0|          0|   N|                Y|            One Star|The remote consta...|2015-01-31 00:08:00|\n",
            "|         US|   17521011|R2F0POU5K6F73F|B008XHCLFO|      24234603|Protection for yo...|     Video Games|          5|            0|          0|   N|                Y|              A Must|I have a 2012-201...|2015-01-31 00:08:00|\n",
            "|         US|   19676307|R3VNR804HYSMR6|B00BRA9R6A|     682267517|   Nerf 3DS XL Armor|     Video Games|          5|            0|          0|   N|                Y|          Five Stars|Perfect, kids lov...|2015-01-31 00:08:00|\n",
            "|         US|     224068| R3GZTM72WA2QH|B009EPWJLA|     435241890|One Piece: Pirate...|     Video Games|          5|            0|          0|   N|                Y|          Five Stars|            Excelent|2015-01-31 00:08:00|\n",
            "|         US|   48467989| RNQOY62705W1K|B0000AV7GB|     256572651|Playstation 2 Dan...|     Video Games|          4|            0|          0|   N|                Y|          Four Stars|Slippery but expe...|2015-01-31 00:08:00|\n",
            "|         US|     106569|R1VTIA3JTYBY02|B00008KTNN|     384411423|Metal Arms: Glitc...|     Video Games|          5|            0|          0|   N|                N|          Five Stars|Love the game. Se...|2015-01-31 00:08:00|\n",
            "|         US|   48269642|R29DOU8791QZL8|B000A3IA0Y|     472622859|72 Pin Connector ...|     Video Games|          1|            0|          0|   N|                Y| Game will get stuck|Does not fit prop...|2015-01-31 00:08:00|\n",
            "|         US|   52738710|R15DUT1VIJ9RJZ|B0053BQN34|     577628462|uDraw Gametablet ...|     Video Games|          2|            0|          0|   N|                Y|We have tried it ...|This was way too ...|2015-01-31 00:08:00|\n",
            "|         US|   10556786|R3IMF2MQ3OU9ZM|B002I0HIMI|     988218515|NBA 2K12(Covers M...|     Video Games|          4|            0|          0|   N|                Y|          Four Stars|Works great good ...|2015-01-31 00:08:00|\n",
            "|         US|    2963837|R23H79DHOZTYAU|B0081EH12M|     770100932|New Trigger Grips...|     Video Games|          1|            1|          1|   N|                Y|Now i have to buy...|It did not fit th...|2015-01-31 00:08:00|\n",
            "|         US|   23092109| RIV24EQAIXA4O|B005FMLZQQ|      24647669|Xbox 360 Media Re...|     Video Games|          5|            0|          0|   N|                Y|          Five Stars|perfect lightweig...|2015-01-31 00:08:00|\n",
            "|         US|   23091728|R3UCNGYDVN24YB|B002BSA388|      33706205|Super Mario Galaxy 2|     Video Games|          5|            0|          0|   N|                Y|          Five Stars|               great|2015-01-31 00:08:00|\n",
            "|         US|   10712640| RUL4H4XTTN2DY|B00BUSLSAC|     829667834|Nintendo 3DS XL -...|     Video Games|          5|            0|          0|   N|                Y|          Five Stars|Works beautifully...|2015-01-31 00:08:00|\n",
            "|         US|   17455376|R20JF7Z4DHTNX5|B00KWF38AW|     110680188|Captain Toad:  Tr...|     Video Games|          5|            0|          0|   N|                Y|          Five Stars|Kids loved the ga...|2015-01-31 00:08:00|\n",
            "|         US|   14754850|R2T1AJ5MFI2260|B00BRQJYA8|     616463426|Lego Batman 2: DC...|     Video Games|          4|            0|          0|   N|                Y|          Four Stars|           Goodngame|2015-01-31 00:08:00|\n",
            "+-----------+-----------+--------------+----------+--------------+--------------------+----------------+-----------+-------------+-----------+----+-----------------+--------------------+--------------------+-------------------+\n",
            "only showing top 20 rows\n",
            "\n"
          ],
          "name": "stdout"
        }
      ]
    },
    {
      "cell_type": "markdown",
      "metadata": {
        "id": "z45Uh7hz6Rp3"
      },
      "source": [
        ""
      ]
    },
    {
      "cell_type": "markdown",
      "metadata": {
        "id": "5Y__x_W36hec"
      },
      "source": [
        "# Count"
      ]
    },
    {
      "cell_type": "code",
      "metadata": {
        "id": "q3cc-PUHyVo9",
        "outputId": "7aa0053e-09b1-4886-dd11-380a3c8ba991",
        "colab": {
          "base_uri": "https://localhost:8080/",
          "height": 34
        }
      },
      "source": [
        "# Count the total rows\n",
        "video_game_df.count()\n"
      ],
      "execution_count": null,
      "outputs": [
        {
          "output_type": "execute_result",
          "data": {
            "text/plain": [
              "1785997"
            ]
          },
          "metadata": {
            "tags": []
          },
          "execution_count": 6
        }
      ]
    },
    {
      "cell_type": "code",
      "metadata": {
        "id": "drSmyBHDyV7J",
        "outputId": "3ce810f2-be5c-4760-c5bc-2c59eb282292",
        "colab": {
          "base_uri": "https://localhost:8080/",
          "height": 34
        }
      },
      "source": [
        "# Drop null values and recount the rows\n",
        "video_game_df = video_game_df.dropna()\n",
        "video_game_df.count()"
      ],
      "execution_count": null,
      "outputs": [
        {
          "output_type": "execute_result",
          "data": {
            "text/plain": [
              "1785886"
            ]
          },
          "metadata": {
            "tags": []
          },
          "execution_count": 7
        }
      ]
    },
    {
      "cell_type": "markdown",
      "metadata": {
        "id": "7WCc_MAr2HRU"
      },
      "source": [
        "## Schema"
      ]
    },
    {
      "cell_type": "code",
      "metadata": {
        "id": "weq_l_O2yWO7",
        "outputId": "d2ff7039-6764-43cd-e43e-bd0f3510bfa3",
        "colab": {
          "base_uri": "https://localhost:8080/",
          "height": 306
        }
      },
      "source": [
        "# Print schema to confirm the correct data types\n",
        "video_game_df.printSchema()"
      ],
      "execution_count": null,
      "outputs": [
        {
          "output_type": "stream",
          "text": [
            "root\n",
            " |-- marketplace: string (nullable = true)\n",
            " |-- customer_id: integer (nullable = true)\n",
            " |-- review_id: string (nullable = true)\n",
            " |-- product_id: string (nullable = true)\n",
            " |-- product_parent: integer (nullable = true)\n",
            " |-- product_title: string (nullable = true)\n",
            " |-- product_category: string (nullable = true)\n",
            " |-- star_rating: integer (nullable = true)\n",
            " |-- helpful_votes: integer (nullable = true)\n",
            " |-- total_votes: integer (nullable = true)\n",
            " |-- vine: string (nullable = true)\n",
            " |-- verified_purchase: string (nullable = true)\n",
            " |-- review_headline: string (nullable = true)\n",
            " |-- review_body: string (nullable = true)\n",
            " |-- review_date: timestamp (nullable = true)\n",
            "\n"
          ],
          "name": "stdout"
        }
      ]
    },
    {
      "cell_type": "markdown",
      "metadata": {
        "id": "FVUuW0Ht181t"
      },
      "source": [
        "# Transform"
      ]
    },
    {
      "cell_type": "code",
      "metadata": {
        "id": "51bwQyHv6mD9",
        "outputId": "509dfb42-9b83-4d49-8fcd-ef51c5b4f48a",
        "colab": {
          "base_uri": "https://localhost:8080/",
          "height": 459
        }
      },
      "source": [
        "# Create review dataframe to match \"review_id_table\" table\n",
        "video_game_review_id_df = video_game_df.select([\"review_id\",\"customer_id\",\"product_id\", \"product_parent\",\"review_date\"])\n",
        "video_game_review_id_df.show()"
      ],
      "execution_count": null,
      "outputs": [
        {
          "output_type": "stream",
          "text": [
            "+--------------+-----------+----------+--------------+-------------------+\n",
            "|     review_id|customer_id|product_id|product_parent|        review_date|\n",
            "+--------------+-----------+----------+--------------+-------------------+\n",
            "| RTIS3L2M1F5SM|   12039526|B001CXYMFS|     737716809|2015-01-31 00:08:00|\n",
            "| R1ZV7R40OLHKD|    9636577|B00M920ND6|     569686175|2015-01-31 00:08:00|\n",
            "|R3BH071QLH8QMC|    2331478|B0029CSOD2|      98937668|2015-01-31 00:08:00|\n",
            "|R127K9NTSXA2YH|   52495923|B00GOOSV98|      23143350|2015-01-31 00:08:00|\n",
            "|R32ZWUXDJPW27Q|   14533949|B00Y074JOM|     821342511|2015-01-31 00:08:00|\n",
            "|R3AQQ4YUKJWBA6|    2377552|B002UBI6W6|     328764615|2015-01-31 00:08:00|\n",
            "|R2F0POU5K6F73F|   17521011|B008XHCLFO|      24234603|2015-01-31 00:08:00|\n",
            "|R3VNR804HYSMR6|   19676307|B00BRA9R6A|     682267517|2015-01-31 00:08:00|\n",
            "| R3GZTM72WA2QH|     224068|B009EPWJLA|     435241890|2015-01-31 00:08:00|\n",
            "| RNQOY62705W1K|   48467989|B0000AV7GB|     256572651|2015-01-31 00:08:00|\n",
            "|R1VTIA3JTYBY02|     106569|B00008KTNN|     384411423|2015-01-31 00:08:00|\n",
            "|R29DOU8791QZL8|   48269642|B000A3IA0Y|     472622859|2015-01-31 00:08:00|\n",
            "|R15DUT1VIJ9RJZ|   52738710|B0053BQN34|     577628462|2015-01-31 00:08:00|\n",
            "|R3IMF2MQ3OU9ZM|   10556786|B002I0HIMI|     988218515|2015-01-31 00:08:00|\n",
            "|R23H79DHOZTYAU|    2963837|B0081EH12M|     770100932|2015-01-31 00:08:00|\n",
            "| RIV24EQAIXA4O|   23092109|B005FMLZQQ|      24647669|2015-01-31 00:08:00|\n",
            "|R3UCNGYDVN24YB|   23091728|B002BSA388|      33706205|2015-01-31 00:08:00|\n",
            "| RUL4H4XTTN2DY|   10712640|B00BUSLSAC|     829667834|2015-01-31 00:08:00|\n",
            "|R20JF7Z4DHTNX5|   17455376|B00KWF38AW|     110680188|2015-01-31 00:08:00|\n",
            "|R2T1AJ5MFI2260|   14754850|B00BRQJYA8|     616463426|2015-01-31 00:08:00|\n",
            "+--------------+-----------+----------+--------------+-------------------+\n",
            "only showing top 20 rows\n",
            "\n"
          ],
          "name": "stdout"
        }
      ]
    },
    {
      "cell_type": "code",
      "metadata": {
        "id": "mMwyp4eZ6ma7",
        "outputId": "7a1f882b-73c5-4389-c1e0-2e4036b767b6",
        "colab": {
          "base_uri": "https://localhost:8080/",
          "height": 459
        }
      },
      "source": [
        "# Create product dataframe to match \"products\" table\n",
        "video_game_products_df = video_game_df.select([\"product_id\",\"product_title\"])\n",
        "video_game_products_df = video_game_products_df.dropDuplicates()\n",
        "video_game_products_df.show()"
      ],
      "execution_count": null,
      "outputs": [
        {
          "output_type": "stream",
          "text": [
            "+----------+--------------------+\n",
            "|product_id|       product_title|\n",
            "+----------+--------------------+\n",
            "|B00CJ7IUI6|The Elder Scrolls...|\n",
            "|B00DHF39KS|Wolfenstein: The ...|\n",
            "|B00MUTAVH6|Under Night In-Bi...|\n",
            "|B001AZSEUW|              Peggle|\n",
            "|B00KVOVBGM|PlayStation 4 Con...|\n",
            "|B00O9VGH4Y|USPRO&reg; Headph...|\n",
            "|B004OQNZY4|Phineas and Ferb:...|\n",
            "|B00ZLN980O|Donop seablue 2.4...|\n",
            "|B002L8W5V6|Dotop Nintendo Ga...|\n",
            "|B007AJZ5PY|Nyko Game Case fo...|\n",
            "|B000AOEU2K|Fire Emblem: Path...|\n",
            "|B000H8BW7U|Tanarus (PC) (Com...|\n",
            "|B013RADQOQ|Susenstone® 2400D...|\n",
            "|B00KQXKUJ2|FIFA 15 (Ultimate...|\n",
            "|B006W41X2C|Turtle Beach - Ea...|\n",
            "|B000KCX9M4|Grand Theft Auto:...|\n",
            "|B00YT90JWC|Red Wii Mini Cons...|\n",
            "|B0096KG6A8|Wii U Super Mario...|\n",
            "|B00L6AVLB0|World of Tanks-X3...|\n",
            "|B000IMYKQ0|Wii Nunchuk Contr...|\n",
            "+----------+--------------------+\n",
            "only showing top 20 rows\n",
            "\n"
          ],
          "name": "stdout"
        }
      ]
    },
    {
      "cell_type": "code",
      "metadata": {
        "id": "DtAdqs-a6mmP",
        "outputId": "0faf7535-e709-4de8-d0bf-9ee4b1eb27ee",
        "colab": {
          "base_uri": "https://localhost:8080/",
          "height": 459
        }
      },
      "source": [
        "# Create customers dataframe to match \"customers\" table\n",
        "from pyspark.sql.functions import desc\n",
        "\n",
        "\n",
        "video_game_customers_df = video_game_df.groupby(\"customer_id\").agg({\"customer_id\":\"count\"})\n",
        "video_game_customers_df = video_game_customers_df.orderBy(desc(\"count(customer_id)\"))\n",
        "video_game_customers_df = video_game_customers_df.withColumnRenamed(\"count(customer_id)\", \"customer_count\")\n",
        "video_game_customers_df.show()"
      ],
      "execution_count": null,
      "outputs": [
        {
          "output_type": "stream",
          "text": [
            "+-----------+--------------+\n",
            "|customer_id|customer_count|\n",
            "+-----------+--------------+\n",
            "|   52759271|           909|\n",
            "|   42418272|           856|\n",
            "|   45838740|           839|\n",
            "|   24846840|           614|\n",
            "|   24594001|           460|\n",
            "|   40955995|           459|\n",
            "|   48278407|           439|\n",
            "|   27364030|           361|\n",
            "|   30678701|           326|\n",
            "|   50648042|           301|\n",
            "|   14539589|           288|\n",
            "|   10541465|           271|\n",
            "|   38752775|           263|\n",
            "|   43092063|           257|\n",
            "|   45261621|           235|\n",
            "|   44603910|           233|\n",
            "|   14886512|           233|\n",
            "|   37687227|           226|\n",
            "|   10075230|           218|\n",
            "|   24476167|           214|\n",
            "+-----------+--------------+\n",
            "only showing top 20 rows\n",
            "\n"
          ],
          "name": "stdout"
        }
      ]
    },
    {
      "cell_type": "code",
      "metadata": {
        "id": "SYxp3dnQ6met",
        "outputId": "e4edca05-f6db-4fda-b7f5-7338cf0223f3",
        "colab": {
          "base_uri": "https://localhost:8080/",
          "height": 459
        }
      },
      "source": [
        "# Create vine dataframe to match \"vine_table\" table\n",
        "from pyspark.sql.functions import col\n",
        "\n",
        "video_game_vine_table_df = video_game_df.select([\"review_id\",\"star_rating\",\"helpful_votes\",\"total_votes\",\"vine\"])\n",
        "video_game_vine_table_df = video_game_vine_table_df.filter(col(\"vine\")  == \"Y\")\n",
        "video_game_vine_table_df.show()\n"
      ],
      "execution_count": null,
      "outputs": [
        {
          "output_type": "stream",
          "text": [
            "+--------------+-----------+-------------+-----------+----+\n",
            "|     review_id|star_rating|helpful_votes|total_votes|vine|\n",
            "+--------------+-----------+-------------+-----------+----+\n",
            "| RX3CK2RLSAF7T|          5|            0|          0|   Y|\n",
            "|R253CC14DRG5WQ|          3|            0|          0|   Y|\n",
            "| R1ZXWP3JKVXMU|          5|            0|          0|   Y|\n",
            "|R1I01YYQ35M80G|          5|            0|          0|   Y|\n",
            "| RWKQQPG100CQ4|          4|            2|          4|   Y|\n",
            "|R1R0J8S1VGALUY|          1|            1|          2|   Y|\n",
            "|R28165EG0N9CSN|          4|            1|          2|   Y|\n",
            "|R1CH0ZXGIMVEFC|          5|            1|          2|   Y|\n",
            "|R2BFEJHEKH4YWZ|          5|            3|          4|   Y|\n",
            "| R73CGNRBSWLLM|          5|            0|          0|   Y|\n",
            "| RYIG0BYEZP7WM|          2|            1|          1|   Y|\n",
            "| RHGGJU4WY3YBL|          2|            0|          3|   Y|\n",
            "| RUV0RB5H9ENT5|          4|            0|          0|   Y|\n",
            "|R20AUQF3VKFU4I|          4|            0|          0|   Y|\n",
            "|R2KH14JAM5BNXE|          4|            0|          0|   Y|\n",
            "|R20FZQEZM1277P|          4|            2|          4|   Y|\n",
            "| RSAY2UB0IHC0L|          4|            4|          6|   Y|\n",
            "| RQKQVDDOKW5MU|          5|            4|          5|   Y|\n",
            "|R178X00VKZU4GX|          4|            0|          1|   Y|\n",
            "| R6K92WGKHQXG3|          3|            0|          0|   Y|\n",
            "+--------------+-----------+-------------+-----------+----+\n",
            "only showing top 20 rows\n",
            "\n"
          ],
          "name": "stdout"
        }
      ]
    },
    {
      "cell_type": "markdown",
      "metadata": {
        "id": "A8n-qxbDZ1Q2"
      },
      "source": [
        "## **Load into RDS (Postgres)**"
      ]
    },
    {
      "cell_type": "code",
      "metadata": {
        "id": "CYCAz1If6mTn"
      },
      "source": [
        "# Configure settings for RDS\n",
        "mode = \"append\"\n",
        "jdbc_url=\"jdbc:postgresql://bigdatach3act3db.cw1hhyrwelau.us-east-2.rds.amazonaws.com:5432/amazongamereviews\"\n",
        "config = {\"user\":\"postgres\", \n",
        "          \"password\": \"postgres\", \n",
        "          \"driver\":\"org.postgresql.Driver\"}"
      ],
      "execution_count": null,
      "outputs": []
    },
    {
      "cell_type": "code",
      "metadata": {
        "id": "npVCLr_3dxZ1"
      },
      "source": [
        "# Write DataFrame to review_id_df table in RDS\n",
        "\n",
        "video_game_review_id_df.write.jdbc(url=jdbc_url, table='review_id_table', mode=mode, properties=config)"
      ],
      "execution_count": null,
      "outputs": []
    },
    {
      "cell_type": "code",
      "metadata": {
        "id": "IVN7GO1nx7M9"
      },
      "source": [
        "# Write DataFrame to products table in RDS\n",
        "\n",
        "video_game_products_df.write.jdbc(url=jdbc_url, table='products', mode=mode, properties=config)"
      ],
      "execution_count": null,
      "outputs": []
    },
    {
      "cell_type": "code",
      "metadata": {
        "id": "4clPsIGJdxs5"
      },
      "source": [
        "# Write DataFrame to customers table in RDS\n",
        "\n",
        "video_game_customers_df.write.jdbc(url=jdbc_url, table='customers', mode=mode, properties=config)"
      ],
      "execution_count": null,
      "outputs": []
    },
    {
      "cell_type": "code",
      "metadata": {
        "id": "cAGs5pJ8yBv5"
      },
      "source": [
        "# Write DataFrame to vine_table table in RDS\n",
        "\n",
        "video_game_vine_table_df.write.jdbc(url=jdbc_url, table='vine_table', mode=mode, properties=config)"
      ],
      "execution_count": null,
      "outputs": []
    }
  ]
}